{
 "cells": [
  {
   "cell_type": "markdown",
   "metadata": {},
   "source": [
    "### Import modules"
   ]
  },
  {
   "cell_type": "code",
   "execution_count": 2,
   "metadata": {},
   "outputs": [],
   "source": [
    "from tensorflow.keras.layers import Input, Lambda, Dense, Flatten,Dropout\n",
    "from tensorflow.keras.models import Model\n",
    "from tensorflow.keras.applications.vgg19 import VGG19\n",
    "from tensorflow.keras.applications.vgg19 import preprocess_input\n",
    "from tensorflow.keras.preprocessing import image\n",
    "from tensorflow.keras.preprocessing.image import ImageDataGenerator\n",
    "from tensorflow.keras.models import Sequential\n",
    "import numpy as np\n",
    "import pandas as pd\n",
    "import os\n",
    "import cv2\n",
    "import matplotlib.pyplot as plt"
   ]
  },
  {
   "cell_type": "code",
   "execution_count": 59,
   "metadata": {},
   "outputs": [],
   "source": [
    "def return_subfolders(parent):\n",
    "    '''list of all subfolders'''\n",
    "    for folder in os.listdir(parent):\n",
    "        # exclude non-folders and hidden files\n",
    "        if not folder.startswith('.') and os.path.isdir(os.path.join(path_train, folder)) : \n",
    "            yield folder"
   ]
  },
  {
   "cell_type": "code",
   "execution_count": 91,
   "metadata": {},
   "outputs": [
    {
     "name": "stdout",
     "output_type": "stream",
     "text": [
      "10000 training samples\n",
      "2000 validation samples\n",
      "2000 testing samples\n"
     ]
    }
   ],
   "source": [
    "path_train = \"data/train_another\"\n",
    "path_val = \"data/validation_another\"\n",
    "path_test = \"data/test\"\n",
    "x_train=[]\n",
    "x_val = []\n",
    "x_test = []\n",
    "\n",
    "\n",
    "for samples_array, folder_path in ((x_train, path_train), (x_val, path_val), (x_test, path_test)):\n",
    "    for folder in return_subfolders(folder_path):\n",
    "        sub_path = folder_path + \"/\" + folder\n",
    "        for i, img in enumerate(os.listdir(sub_path)):\n",
    "            image_path = sub_path + \"/\" +img\n",
    "            img_arr=cv2.imread(image_path)\n",
    "            img_arr=cv2.resize(img_arr,(128,128))\n",
    "            samples_array.append(img_arr)\n",
    "            # print(f'image {i} processed')\n",
    "\n",
    "print(f\"{len(x_train)} training samples\")\n",
    "print(f\"{len(x_val)} validation samples\")\n",
    "print(f\"{len(x_test)} testing samples\")"
   ]
  },
  {
   "cell_type": "code",
   "execution_count": null,
   "metadata": {},
   "outputs": [],
   "source": []
  }
 ],
 "metadata": {
  "interpreter": {
   "hash": "f6f948a76af1b343cb222e663d4f584dc3b22d478d0b8e61cd66902f706ceb46"
  },
  "kernelspec": {
   "display_name": "Python 3.10.4 ('venv_hurricane')",
   "language": "python",
   "name": "python3"
  },
  "language_info": {
   "codemirror_mode": {
    "name": "ipython",
    "version": 3
   },
   "file_extension": ".py",
   "mimetype": "text/x-python",
   "name": "python",
   "nbconvert_exporter": "python",
   "pygments_lexer": "ipython3",
   "version": "3.10.4"
  },
  "orig_nbformat": 4
 },
 "nbformat": 4,
 "nbformat_minor": 2
}
